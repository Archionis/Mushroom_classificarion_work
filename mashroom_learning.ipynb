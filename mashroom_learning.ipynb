{
  "nbformat": 4,
  "nbformat_minor": 0,
  "metadata": {
    "colab": {
      "provenance": [],
      "gpuType": "T4"
    },
    "kernelspec": {
      "name": "python3",
      "display_name": "Python 3"
    },
    "language_info": {
      "name": "python"
    },
    "accelerator": "GPU"
  },
  "cells": [
    {
      "cell_type": "code",
      "execution_count": 1,
      "metadata": {
        "id": "tCl30rGudNZB"
      },
      "outputs": [],
      "source": [
        "import torch\n",
        "from torch import nn\n",
        "import matplotlib.pyplot as plt\n",
        "import numpy as np\n",
        "import torchvision\n",
        "from torchvision import transforms\n",
        "from torch.utils.data import DataLoader, Dataset\n",
        "from tqdm import tqdm\n",
        "import kagglehub\n",
        "import os\n",
        "import random\n",
        "from IPython.display import Image as IM\n",
        "import PIL\n",
        "import pandas as pd"
      ]
    },
    {
      "cell_type": "code",
      "source": [
        "path = kagglehub.dataset_download(\"maysee/mushrooms-classification-common-genuss-images\")\n",
        "\n",
        "print(\"Path to dataset files:\", path)"
      ],
      "metadata": {
        "colab": {
          "base_uri": "https://localhost:8080/"
        },
        "id": "b_0Xn6ECeApd",
        "outputId": "60f46b24-ce9a-4ad1-c913-bfa34cb13220"
      },
      "execution_count": 2,
      "outputs": [
        {
          "output_type": "stream",
          "name": "stdout",
          "text": [
            "Using Colab cache for faster access to the 'mushrooms-classification-common-genuss-images' dataset.\n",
            "Path to dataset files: /kaggle/input/mushrooms-classification-common-genuss-images\n"
          ]
        }
      ]
    },
    {
      "cell_type": "code",
      "source": [
        "if torch.cuda.is_available():\n",
        "    device = \"cuda\"\n",
        "elif torch.backends.mps.is_available():\n",
        "    device = \"mps\"\n",
        "else:\n",
        "    device = \"cpu\"\n",
        "device"
      ],
      "metadata": {
        "colab": {
          "base_uri": "https://localhost:8080/",
          "height": 36
        },
        "id": "RBBnWAnP34Oa",
        "outputId": "dc641f1f-333f-4c8b-dd48-b54fab66c07b"
      },
      "execution_count": 3,
      "outputs": [
        {
          "output_type": "execute_result",
          "data": {
            "text/plain": [
              "'cuda'"
            ],
            "application/vnd.google.colaboratory.intrinsic+json": {
              "type": "string"
            }
          },
          "metadata": {},
          "execution_count": 3
        }
      ]
    },
    {
      "cell_type": "code",
      "source": [
        "data_dir = os.path.join(path, 'Mushrooms')"
      ],
      "metadata": {
        "id": "x5i5HsuVeUNW"
      },
      "execution_count": 4,
      "outputs": []
    },
    {
      "cell_type": "code",
      "source": [
        "def is_not_corrupted_image(path):\n",
        "  try:\n",
        "    with PIL.Image.open(path) as img:\n",
        "      img.verify()\n",
        "    with PIL.Image.open(path) as img:\n",
        "      img.convert('RGB')\n",
        "  except:\n",
        "    return False\n",
        "  return True"
      ],
      "metadata": {
        "id": "yS_0SgfOp-8l"
      },
      "execution_count": 5,
      "outputs": []
    },
    {
      "cell_type": "code",
      "source": [
        "def make_weights_for_balanced_classes(images, nclasses):\n",
        "    n_images = len(images)\n",
        "    count_per_class = [0] * nclasses\n",
        "    for _, image_class in images:\n",
        "        count_per_class[image_class] += 1\n",
        "    weight_per_class = [0.] * nclasses\n",
        "    for i in range(nclasses):\n",
        "        weight_per_class[i] = float(n_images) / float(count_per_class[i])\n",
        "    weights = [0] * n_images\n",
        "    for idx, (image, image_class) in enumerate(images):\n",
        "        weights[idx] = weight_per_class[image_class]\n",
        "    return weights"
      ],
      "metadata": {
        "id": "sUH9UjVD-S-Z"
      },
      "execution_count": 6,
      "outputs": []
    },
    {
      "cell_type": "code",
      "source": [
        "from sklearn.model_selection import train_test_split\n",
        "from torch.utils.data import DataLoader, WeightedRandomSampler, Subset\n",
        "class ImageDataManager:\n",
        "    def __init__(self, data_path, batch_size=32, img_size=224):\n",
        "        self.data_path = data_path\n",
        "        self.batch_size = batch_size\n",
        "        self.img_size = img_size\n",
        "\n",
        "        self.setup_transforms()\n",
        "        self.load_and_split_data()\n",
        "        self.create_sampler()\n",
        "        self.create_dataloaders()\n",
        "\n",
        "    def setup_transforms(self):\n",
        "        self.train_transforms = transforms.Compose([\n",
        "            transforms.RandomResizedCrop(self.img_size),\n",
        "            transforms.RandomHorizontalFlip(),\n",
        "            transforms.RandomRotation(10),\n",
        "            transforms.ColorJitter(brightness=0.2, contrast=0.2),\n",
        "            transforms.ToTensor(),\n",
        "            transforms.Normalize([0.485, 0.456, 0.406], [0.229, 0.224, 0.225])\n",
        "        ])\n",
        "\n",
        "        self.test_transforms = transforms.Compose([\n",
        "            transforms.Resize(224),\n",
        "            transforms.CenterCrop(self.img_size),\n",
        "            transforms.ToTensor(),\n",
        "            transforms.Normalize([0.485, 0.456, 0.406], [0.229, 0.224, 0.225])\n",
        "        ])\n",
        "\n",
        "    def load_and_split_data(self):\n",
        "        self.full_dataset = torchvision.datasets.ImageFolder(\n",
        "            root=self.data_path,\n",
        "            transform=self.train_transforms,\n",
        "            is_valid_file=is_not_corrupted_image\n",
        "        )\n",
        "        targets = [sample[1] for sample in self.full_dataset.samples]\n",
        "\n",
        "        train_indices, test_indices = train_test_split(\n",
        "            range(len(self.full_dataset)),\n",
        "            test_size=0.2,\n",
        "            stratify=targets,\n",
        "            random_state=42\n",
        "        )\n",
        "\n",
        "        self.train_indices = train_indices\n",
        "        self.test_indices = test_indices\n",
        "\n",
        "        self.train_dataset = Subset(self.full_dataset, train_indices)\n",
        "        self.test_dataset = Subset(self.full_dataset, test_indices)\n",
        "\n",
        "        original_dataset = self.test_dataset.dataset\n",
        "        self.test_dataset.dataset = torchvision.datasets.ImageFolder(\n",
        "            root=self.data_path,\n",
        "            transform=self.test_transforms,\n",
        "            is_valid_file=is_not_corrupted_image\n",
        "        )\n",
        "\n",
        "        print(f\"Total classes: {len(self.full_dataset.classes)}\")\n",
        "        print(f\"Train samples: {len(self.train_dataset)}\")\n",
        "        print(f\"Test samples: {len(self.test_dataset)}\")\n",
        "\n",
        "        train_targets = [targets[i] for i in train_indices]\n",
        "        test_targets = [targets[i] for i in test_indices]\n",
        "\n",
        "        self.train_distribution = np.bincount(train_targets)\n",
        "        self.test_distribution = np.bincount(test_targets)\n",
        "\n",
        "        print(f\"Train class distribution: {self.train_distribution}\")\n",
        "        print(f\"Test class distribution: {self.test_distribution}\")\n",
        "\n",
        "    def create_sampler(self):\n",
        "        targets = [self.full_dataset.targets[i] for i in self.train_indices]\n",
        "        targets = torch.tensor(targets)\n",
        "\n",
        "        class_counts = np.bincount(targets.numpy())\n",
        "        class_weights = 1. / torch.tensor(class_counts, dtype=torch.float)\n",
        "\n",
        "        sample_weights = class_weights[targets]\n",
        "\n",
        "        self.train_sampler = WeightedRandomSampler(\n",
        "            weights=sample_weights,\n",
        "            num_samples=len(sample_weights),\n",
        "            replacement=True\n",
        "        )\n",
        "\n",
        "    def create_dataloaders(self):\n",
        "        self.train_loader = DataLoader(\n",
        "            self.train_dataset,\n",
        "            batch_size=self.batch_size,\n",
        "            sampler=self.train_sampler,\n",
        "        )\n",
        "\n",
        "        self.test_loader = DataLoader(\n",
        "            self.test_dataset,\n",
        "            batch_size=self.batch_size,\n",
        "            shuffle=False,\n",
        "        )\n",
        "\n",
        "    def get_class_names(self):\n",
        "        return self.full_dataset.classes\n",
        "\n",
        "data_manager = ImageDataManager(\n",
        "    data_path= data_dir,\n",
        "    batch_size=32\n",
        ")\n",
        "\n",
        "train_loader = data_manager.train_loader\n",
        "test_loader = data_manager.test_loader\n",
        "class_names = data_manager.get_class_names()"
      ],
      "metadata": {
        "colab": {
          "base_uri": "https://localhost:8080/"
        },
        "id": "kmbJ2nXq-ath",
        "outputId": "d044d1ba-9670-4869-8d3f-8b5e2fcd0205"
      },
      "execution_count": 7,
      "outputs": [
        {
          "output_type": "stream",
          "name": "stdout",
          "text": [
            "Total classes: 9\n",
            "Train samples: 5370\n",
            "Test samples: 1343\n",
            "Train class distribution: [ 282  600  858  669  291  253 1250  918  249]\n",
            "Test class distribution: [ 71 150 215 167  73  63 313 229  62]\n"
          ]
        }
      ]
    },
    {
      "cell_type": "code",
      "source": [
        "plt.figure(figsize=(10, 5))\n",
        "plt.bar(data_manager.full_dataset.classes, data_manager.train_distribution + data_manager.test_distribution)\n",
        "plt.title('Whole dataset distribution')"
      ],
      "metadata": {
        "colab": {
          "base_uri": "https://localhost:8080/",
          "height": 486
        },
        "id": "bhnbS7yLdxkA",
        "outputId": "5c40296e-d2f8-492b-eb0d-bb3fd8d078a7"
      },
      "execution_count": 8,
      "outputs": [
        {
          "output_type": "execute_result",
          "data": {
            "text/plain": [
              "Text(0.5, 1.0, 'Whole dataset distribution')"
            ]
          },
          "metadata": {},
          "execution_count": 8
        },
        {
          "output_type": "display_data",
          "data": {
            "text/plain": [
              "<Figure size 1000x500 with 1 Axes>"
            ],
            "image/png": "[encoded data removed]"
          },
          "metadata": {}
        }
      ]
    },
    {
      "cell_type": "code",
      "source": [
        "fig, (ax1, ax2) = plt.subplots(1, 2, figsize=(20, 5))\n",
        "ax1.bar(data_manager.full_dataset.classes, data_manager.train_distribution)\n",
        "ax1.set_title('Train dataset distribution')\n",
        "ax2.bar(data_manager.full_dataset.classes, data_manager.test_distribution)\n",
        "ax2.set_title('Test dataset distribution')"
      ],
      "metadata": {
        "colab": {
          "base_uri": "https://localhost:8080/",
          "height": 338
        },
        "id": "riNodYuCZdYE",
        "outputId": "aa385dfc-03c1-4aef-b43e-bdb3c5051123"
      },
      "execution_count": 9,
      "outputs": [
        {
          "output_type": "execute_result",
          "data": {
            "text/plain": [
              "Text(0.5, 1.0, 'Test dataset distribution')"
            ]
          },
          "metadata": {},
          "execution_count": 9
        },
        {
          "output_type": "display_data",
          "data": {
            "text/plain": [
              "<Figure size 2000x500 with 2 Axes>"
            ],
            "image/png": "[encoded data removed]"
          },
          "metadata": {}
        }
      ]
    },
    {
      "cell_type": "code",
      "source": [
        "model = torchvision.models.resnet50(pretrained=True)"
      ],
      "metadata": {
        "id": "3h7CFj5yywMn",
        "colab": {
          "base_uri": "https://localhost:8080/"
        },
        "outputId": "6bf7cd20-aed6-44c1-deb6-38be1b87542d"
      },
      "execution_count": 10,
      "outputs": [
        {
          "output_type": "stream",
          "name": "stderr",
          "text": [
            "/usr/local/lib/python3.12/dist-packages/torchvision/models/_utils.py:208: UserWarning: The parameter 'pretrained' is deprecated since 0.13 and may be removed in the future, please use 'weights' instead.\n",
            "  warnings.warn(\n",
            "/usr/local/lib/python3.12/dist-packages/torchvision/models/_utils.py:223: UserWarning: Arguments other than a weight enum or `None` for 'weights' are deprecated since 0.13 and may be removed in the future. The current behavior is equivalent to passing `weights=ResNet50_Weights.IMAGENET1K_V1`. You can also use `weights=ResNet50_Weights.DEFAULT` to get the most up-to-date weights.\n",
            "  warnings.warn(msg)\n"
          ]
        }
      ]
    },
    {
      "cell_type": "code",
      "source": [
        "in_features = model.fc.in_features"
      ],
      "metadata": {
        "id": "C7idlJze660U"
      },
      "execution_count": 11,
      "outputs": []
    },
    {
      "cell_type": "code",
      "source": [
        "for param in model.parameters():\n",
        "    param.requires_grad = False\n",
        "\n",
        "model.fc = nn.Sequential(\n",
        "        nn.Dropout(p=0.3, inplace=True),\n",
        "        nn.Linear(in_features, 512),\n",
        "        nn.ReLU(),\n",
        "        nn.BatchNorm1d(512),\n",
        "        nn.Dropout(p=0.2, inplace=True),\n",
        "        nn.Linear(512, 256),\n",
        "        nn.ReLU(),\n",
        "        nn.Dropout(p=0.5),\n",
        "        nn.Linear(256, len(class_names))\n",
        "    )\n",
        "\n",
        "model = model.to(device)"
      ],
      "metadata": {
        "id": "zH4p0ONX2zWB"
      },
      "execution_count": 12,
      "outputs": []
    },
    {
      "cell_type": "code",
      "source": [
        "#функция тренировки\n",
        "def train(model, train_loader, val_loader, criterion, optimizer, scheduler, num_epochs, device='cuda'):\n",
        "    model = model.to(device)\n",
        "\n",
        "    history = {\n",
        "        'train_loss': [],\n",
        "        'val_loss': [],\n",
        "        'train_accuracy': [],\n",
        "        'val_accuracy': []\n",
        "    }\n",
        "\n",
        "    for epoch in range(num_epochs):\n",
        "        print(f'Epoch {epoch+1}/{num_epochs}')\n",
        "\n",
        "        model.train()\n",
        "        train_loss = 0.0\n",
        "        train_correct = 0\n",
        "        train_total = 0\n",
        "\n",
        "        train_pbar = tqdm(train_loader, desc='Training')\n",
        "        for data, target in train_pbar:\n",
        "            data, target = data.to(device), target.to(device)\n",
        "\n",
        "            optimizer.zero_grad()\n",
        "            output = model(data)\n",
        "            loss = criterion(output, target)\n",
        "            loss.backward()\n",
        "            optimizer.step()\n",
        "\n",
        "            train_loss += loss.item()\n",
        "            _, predicted = torch.max(output.data, 1)\n",
        "            train_total += target.size(0)\n",
        "            train_correct += (predicted == target).sum().item()\n",
        "\n",
        "            current_acc = 100. * train_correct / train_total\n",
        "            train_pbar.set_postfix({\n",
        "                'Loss': f'{loss.item():.4f}',\n",
        "                'Acc': f'{current_acc:.2f}%'\n",
        "            })\n",
        "        scheduler.step()\n",
        "        model.eval()\n",
        "        val_loss = 0.0\n",
        "        val_correct = 0\n",
        "        val_total = 0\n",
        "\n",
        "        if val_loader != None:\n",
        "          val_pbar = tqdm(val_loader, desc='Validation')\n",
        "          with torch.no_grad():\n",
        "              for data, target in val_pbar:\n",
        "                  data, target = data.to(device), target.to(device)\n",
        "                  output = model(data)\n",
        "                  loss = criterion(output, target)\n",
        "\n",
        "                  val_loss += loss.item()\n",
        "                  _, predicted = torch.max(output.data, 1)\n",
        "                  val_total += target.size(0)\n",
        "                  val_correct += (predicted == target).sum().item()\n",
        "\n",
        "                  current_acc = 100. * val_correct / val_total\n",
        "                  val_pbar.set_postfix({\n",
        "                      'Loss': f'{loss.item():.4f}',\n",
        "                      'Acc': f'{current_acc:.2f}%'\n",
        "                  })\n",
        "\n",
        "          avg_train_loss = train_loss / len(train_loader)\n",
        "          train_accuracy = 100. * train_correct / train_total\n",
        "          if val_loader != None:\n",
        "            avg_val_loss = val_loss / len(val_loader)\n",
        "            val_accuracy = 100. * val_correct / val_total\n",
        "\n",
        "          history['train_loss'].append(avg_train_loss)\n",
        "          history['train_accuracy'].append(train_accuracy)\n",
        "\n",
        "          if val_loader != None:\n",
        "            history['val_loss'].append(avg_val_loss)\n",
        "            history['val_accuracy'].append(val_accuracy)\n",
        "\n",
        "          print(f'Train Loss: {avg_train_loss:.4f}, Acc: {train_accuracy:.2f}%')\n",
        "          if val_loader != None:\n",
        "            print(f'Val Loss: {avg_val_loss:.4f}, Acc: {val_accuracy:.2f}%')\n",
        "          print()\n",
        "\n",
        "    return history"
      ],
      "metadata": {
        "id": "cLLj3UB_-c1e"
      },
      "execution_count": 13,
      "outputs": []
    },
    {
      "cell_type": "code",
      "source": [
        "criterion = nn.CrossEntropyLoss()\n",
        "optimizer = torch.optim.Adam(model.parameters(), lr=0.001)\n",
        "scheduler = torch.optim.lr_scheduler.StepLR(optimizer, step_size=5, gamma=0.3)\n",
        "history = train(model, train_loader, test_loader, criterion, optimizer, scheduler, 10, device)"
      ],
      "metadata": {
        "colab": {
          "base_uri": "https://localhost:8080/"
        },
        "id": "O1mgt-56-yEN",
        "outputId": "ffdd2344-83a0-4548-869a-d408738b36d7"
      },
      "execution_count": 14,
      "outputs": [
        {
          "output_type": "stream",
          "name": "stdout",
          "text": [
            "Epoch 1/10\n"
          ]
        },
        {
          "output_type": "stream",
          "name": "stderr",
          "text": [
            "Training: 100%|██████████| 168/168 [01:06<00:00,  2.53it/s, Loss=1.1052, Acc=51.42%]\n",
            "Validation: 100%|██████████| 42/42 [00:16<00:00,  2.58it/s, Loss=1.3560, Acc=62.17%]\n"
          ]
        },
        {
          "output_type": "stream",
          "name": "stdout",
          "text": [
            "Train Loss: 1.3693, Acc: 51.42%\n",
            "Val Loss: 1.0409, Acc: 62.17%\n",
            "\n",
            "Epoch 2/10\n"
          ]
        },
        {
          "output_type": "stream",
          "name": "stderr",
          "text": [
            "Training: 100%|██████████| 168/168 [01:04<00:00,  2.59it/s, Loss=1.1234, Acc=57.90%]\n",
            "Validation: 100%|██████████| 42/42 [00:16<00:00,  2.55it/s, Loss=0.8665, Acc=70.59%]\n"
          ]
        },
        {
          "output_type": "stream",
          "name": "stdout",
          "text": [
            "Train Loss: 1.1981, Acc: 57.90%\n",
            "Val Loss: 0.8563, Acc: 70.59%\n",
            "\n",
            "Epoch 3/10\n"
          ]
        },
        {
          "output_type": "stream",
          "name": "stderr",
          "text": [
            "Training: 100%|██████████| 168/168 [01:05<00:00,  2.55it/s, Loss=1.3299, Acc=60.61%]\n",
            "Validation: 100%|██████████| 42/42 [00:15<00:00,  2.68it/s, Loss=1.0188, Acc=67.46%]\n"
          ]
        },
        {
          "output_type": "stream",
          "name": "stdout",
          "text": [
            "Train Loss: 1.1276, Acc: 60.61%\n",
            "Val Loss: 0.9161, Acc: 67.46%\n",
            "\n",
            "Epoch 4/10\n"
          ]
        },
        {
          "output_type": "stream",
          "name": "stderr",
          "text": [
            "Training: 100%|██████████| 168/168 [01:05<00:00,  2.57it/s, Loss=0.8335, Acc=61.17%]\n",
            "Validation: 100%|██████████| 42/42 [00:15<00:00,  2.68it/s, Loss=0.9366, Acc=70.14%]\n"
          ]
        },
        {
          "output_type": "stream",
          "name": "stdout",
          "text": [
            "Train Loss: 1.1004, Acc: 61.17%\n",
            "Val Loss: 0.8496, Acc: 70.14%\n",
            "\n",
            "Epoch 5/10\n"
          ]
        },
        {
          "output_type": "stream",
          "name": "stderr",
          "text": [
            "Training: 100%|██████████| 168/168 [01:08<00:00,  2.45it/s, Loss=1.1476, Acc=61.06%]\n",
            "Validation: 100%|██████████| 42/42 [00:16<00:00,  2.51it/s, Loss=0.9142, Acc=71.03%]\n"
          ]
        },
        {
          "output_type": "stream",
          "name": "stdout",
          "text": [
            "Train Loss: 1.0999, Acc: 61.06%\n",
            "Val Loss: 0.8276, Acc: 71.03%\n",
            "\n",
            "Epoch 6/10\n"
          ]
        },
        {
          "output_type": "stream",
          "name": "stderr",
          "text": [
            "Training: 100%|██████████| 168/168 [01:04<00:00,  2.60it/s, Loss=0.9255, Acc=62.81%]\n",
            "Validation: 100%|██████████| 42/42 [00:16<00:00,  2.48it/s, Loss=0.7713, Acc=74.31%]\n"
          ]
        },
        {
          "output_type": "stream",
          "name": "stdout",
          "text": [
            "Train Loss: 1.0637, Acc: 62.81%\n",
            "Val Loss: 0.7624, Acc: 74.31%\n",
            "\n",
            "Epoch 7/10\n"
          ]
        },
        {
          "output_type": "stream",
          "name": "stderr",
          "text": [
            "Training: 100%|██████████| 168/168 [01:07<00:00,  2.48it/s, Loss=0.6897, Acc=63.48%]\n",
            "Validation: 100%|██████████| 42/42 [00:17<00:00,  2.44it/s, Loss=0.7318, Acc=75.65%]\n"
          ]
        },
        {
          "output_type": "stream",
          "name": "stdout",
          "text": [
            "Train Loss: 1.0299, Acc: 63.48%\n",
            "Val Loss: 0.7406, Acc: 75.65%\n",
            "\n",
            "Epoch 8/10\n"
          ]
        },
        {
          "output_type": "stream",
          "name": "stderr",
          "text": [
            "Training: 100%|██████████| 168/168 [01:05<00:00,  2.57it/s, Loss=0.7378, Acc=65.31%]\n",
            "Validation: 100%|██████████| 42/42 [00:16<00:00,  2.61it/s, Loss=0.6840, Acc=74.53%]\n"
          ]
        },
        {
          "output_type": "stream",
          "name": "stdout",
          "text": [
            "Train Loss: 0.9991, Acc: 65.31%\n",
            "Val Loss: 0.7274, Acc: 74.53%\n",
            "\n",
            "Epoch 9/10\n"
          ]
        },
        {
          "output_type": "stream",
          "name": "stderr",
          "text": [
            "Training: 100%|██████████| 168/168 [01:07<00:00,  2.50it/s, Loss=0.7540, Acc=64.02%]\n",
            "Validation: 100%|██████████| 42/42 [00:15<00:00,  2.63it/s, Loss=0.7090, Acc=74.68%]\n"
          ]
        },
        {
          "output_type": "stream",
          "name": "stdout",
          "text": [
            "Train Loss: 1.0158, Acc: 64.02%\n",
            "Val Loss: 0.7326, Acc: 74.68%\n",
            "\n",
            "Epoch 10/10\n"
          ]
        },
        {
          "output_type": "stream",
          "name": "stderr",
          "text": [
            "Training: 100%|██████████| 168/168 [01:06<00:00,  2.53it/s, Loss=0.8070, Acc=66.20%]\n",
            "Validation: 100%|██████████| 42/42 [00:15<00:00,  2.64it/s, Loss=0.7332, Acc=75.13%]"
          ]
        },
        {
          "output_type": "stream",
          "name": "stdout",
          "text": [
            "Train Loss: 0.9715, Acc: 66.20%\n",
            "Val Loss: 0.7123, Acc: 75.13%\n",
            "\n"
          ]
        },
        {
          "output_type": "stream",
          "name": "stderr",
          "text": [
            "\n"
          ]
        }
      ]
    },
    {
      "cell_type": "code",
      "source": [
        "fig, axes = plt.subplots(1, 2, sharex=True, sharey=True)\n",
        "axes[0].plot(history[\"train_accuracy\"], label=\"train acc\")\n",
        "axes[0].plot(history[\"val_accuracy\"], label=\"val acc\")\n",
        "axes[0].set_xlabel('Эпохи')\n",
        "axes[0].set_ylabel('Точность, %')\n",
        "axes[0].grid(True)\n",
        "axes[0].legend(loc=\"upper left\")\n",
        "axes[1].plot(history[\"train_loss\"], label=\"train loss\")\n",
        "axes[1].plot(history[\"val_loss\"], label=\"val loss\")\n",
        "axes[1].set_xlabel('Эпохи')\n",
        "axes[1].set_ylabel('Потери')\n",
        "axes[1].grid(True)\n",
        "axes[1].legend(loc=\"upper right\")\n",
        "plt.show()"
      ],
      "metadata": {
        "id": "PCObfBboFZXY",
        "colab": {
          "base_uri": "https://localhost:8080/",
          "height": 449
        },
        "outputId": "75a1cb3d-6833-4c9d-cd51-97055eacef47"
      },
      "execution_count": 15,
      "outputs": [
        {
          "output_type": "display_data",
          "data": {
            "text/plain": [
              "<Figure size 640x480 with 2 Axes>"
            ],
            "image/png": "[encoded data removed]"
          },
          "metadata": {}
        }
      ]
    },
    {
      "cell_type": "code",
      "source": [
        "history = train(model, train_loader, test_loader, criterion, optimizer, scheduler, 5, device)"
      ],
      "metadata": {
        "colab": {
          "base_uri": "https://localhost:8080/"
        },
        "id": "ssY5zisW2axx",
        "outputId": "67c80865-6e6a-4462-94dd-120d31fc17e6"
      },
      "execution_count": 21,
      "outputs": [
        {
          "output_type": "stream",
          "name": "stdout",
          "text": [
            "Epoch 1/5\n"
          ]
        },
        {
          "output_type": "stream",
          "name": "stderr",
          "text": [
            "Training: 100%|██████████| 168/168 [01:05<00:00,  2.55it/s, Loss=0.8084, Acc=65.64%]\n",
            "Validation: 100%|██████████| 42/42 [00:16<00:00,  2.56it/s, Loss=0.7271, Acc=75.06%]\n"
          ]
        },
        {
          "output_type": "stream",
          "name": "stdout",
          "text": [
            "Train Loss: 0.9853, Acc: 65.64%\n",
            "Val Loss: 0.7178, Acc: 75.06%\n",
            "\n",
            "Epoch 2/5\n"
          ]
        },
        {
          "output_type": "stream",
          "name": "stderr",
          "text": [
            "Training: 100%|██████████| 168/168 [01:06<00:00,  2.51it/s, Loss=1.4363, Acc=66.07%]\n",
            "Validation: 100%|██████████| 42/42 [00:15<00:00,  2.66it/s, Loss=0.6926, Acc=75.20%]\n"
          ]
        },
        {
          "output_type": "stream",
          "name": "stdout",
          "text": [
            "Train Loss: 0.9822, Acc: 66.07%\n",
            "Val Loss: 0.7028, Acc: 75.20%\n",
            "\n",
            "Epoch 3/5\n"
          ]
        },
        {
          "output_type": "stream",
          "name": "stderr",
          "text": [
            "Training: 100%|██████████| 168/168 [01:05<00:00,  2.57it/s, Loss=1.0013, Acc=66.69%]\n",
            "Validation: 100%|██████████| 42/42 [00:15<00:00,  2.67it/s, Loss=0.6995, Acc=75.95%]\n"
          ]
        },
        {
          "output_type": "stream",
          "name": "stdout",
          "text": [
            "Train Loss: 0.9675, Acc: 66.69%\n",
            "Val Loss: 0.6917, Acc: 75.95%\n",
            "\n",
            "Epoch 4/5\n"
          ]
        },
        {
          "output_type": "stream",
          "name": "stderr",
          "text": [
            "Training: 100%|██████████| 168/168 [01:04<00:00,  2.59it/s, Loss=0.7829, Acc=66.24%]\n",
            "Validation: 100%|██████████| 42/42 [00:16<00:00,  2.58it/s, Loss=0.6645, Acc=76.25%]\n"
          ]
        },
        {
          "output_type": "stream",
          "name": "stdout",
          "text": [
            "Train Loss: 0.9617, Acc: 66.24%\n",
            "Val Loss: 0.6803, Acc: 76.25%\n",
            "\n",
            "Epoch 5/5\n"
          ]
        },
        {
          "output_type": "stream",
          "name": "stderr",
          "text": [
            "Training: 100%|██████████| 168/168 [01:05<00:00,  2.56it/s, Loss=0.8239, Acc=66.22%]\n",
            "Validation: 100%|██████████| 42/42 [00:15<00:00,  2.68it/s, Loss=0.6833, Acc=75.20%]"
          ]
        },
        {
          "output_type": "stream",
          "name": "stdout",
          "text": [
            "Train Loss: 0.9577, Acc: 66.22%\n",
            "Val Loss: 0.7080, Acc: 75.20%\n",
            "\n"
          ]
        },
        {
          "output_type": "stream",
          "name": "stderr",
          "text": [
            "\n"
          ]
        }
      ]
    },
    {
      "cell_type": "code",
      "source": [
        "fig, axes = plt.subplots(2, 1, sharex=True, sharey=True)\n",
        "axes[0].plot(history[\"train_accuracy\"], label=\"train acc\")\n",
        "axes[0].plot(history[\"val_accuracy\"], label=\"val acc\")\n",
        "axes[0].set_xlabel('Эпохи')\n",
        "axes[0].set_ylabel('Точность, %')\n",
        "axes[0].grid(True)\n",
        "axes[0].legend(loc=\"upper left\")\n",
        "axes[1].plot(history[\"train_loss\"], label=\"train loss\")\n",
        "axes[1].plot(history[\"val_loss\"], label=\"val loss\")\n",
        "axes[1].set_xlabel('Эпохи')\n",
        "axes[1].set_ylabel('Потери')\n",
        "axes[1].grid(True)\n",
        "axes[1].legend(loc=\"upper right\")\n",
        "plt.show()"
      ],
      "metadata": {
        "colab": {
          "base_uri": "https://localhost:8080/",
          "height": 455
        },
        "id": "RMYrgKON2fJj",
        "outputId": "f6a10a67-bb49-45ca-df6c-7d90cb5b656c"
      },
      "execution_count": 22,
      "outputs": [
        {
          "output_type": "display_data",
          "data": {
            "text/plain": [
              "<Figure size 640x480 with 2 Axes>"
            ],
            "image/png": "[encoded data removed]"
          },
          "metadata": {}
        }
      ]
    },
    {
      "cell_type": "code",
      "source": [
        "def predict(model, data_loader, device='cuda'):\n",
        "    model.eval()\n",
        "    model.to(device)\n",
        "\n",
        "    all_predictions = []\n",
        "\n",
        "    with torch.no_grad():\n",
        "        for batch_idx, (images, targets) in enumerate(data_loader):\n",
        "            images = images.to(device)\n",
        "            targets = targets.to(device)\n",
        "\n",
        "            outputs = model(images)\n",
        "\n",
        "\n",
        "            probabilities = torch.softmax(outputs, dim=1)\n",
        "            predictions = torch.argmax(probabilities, dim=1)\n",
        "\n",
        "            all_predictions.extend(predictions.cpu().numpy())\n",
        "    return np.array(all_predictions)"
      ],
      "metadata": {
        "id": "QMkK4-fffm_3"
      },
      "execution_count": 23,
      "outputs": []
    },
    {
      "cell_type": "code",
      "source": [
        "predictions = predict(model, test_loader, device)"
      ],
      "metadata": {
        "id": "3G0LSiUZfqxe"
      },
      "execution_count": 24,
      "outputs": []
    },
    {
      "cell_type": "code",
      "source": [
        "all_targets = data_manager.test_dataset.dataset.targets\n",
        "targets = [all_targets[i] for i in data_manager.test_dataset.indices]"
      ],
      "metadata": {
        "id": "896R96thoHH0"
      },
      "execution_count": 25,
      "outputs": []
    },
    {
      "cell_type": "code",
      "source": [
        "accuracy = 0.\n",
        "test_correct = 0.\n",
        "test_correct += (predictions == targets).sum().item()\n",
        "print(f\"Accuracy: {100. * test_correct / len(predictions):.2f}%\")"
      ],
      "metadata": {
        "colab": {
          "base_uri": "https://localhost:8080/"
        },
        "id": "y-_7xk1Xgrbr",
        "outputId": "099b6c65-de06-4b08-c0f2-60fe0943daed"
      },
      "execution_count": 26,
      "outputs": [
        {
          "output_type": "stream",
          "name": "stdout",
          "text": [
            "Accuracy: 75.20%\n"
          ]
        }
      ]
    },
    {
      "cell_type": "code",
      "source": [
        "torch.save(model.state_dict(), \"mushroom_weights.pth\")\n",
        "#model.load_state_dict(torch.load('mushroom_weights.pth'))\n",
        "#model.eval()"
      ],
      "metadata": {
        "id": "KePw5k9ewRmq"
      },
      "execution_count": 27,
      "outputs": []
    }
  ]
}