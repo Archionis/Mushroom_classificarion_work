{
  "cells": [
    {
      "cell_type": "markdown",
      "metadata": {
        "id": "oiCegrDcIw1D"
      },
      "source": [
        "Те же действия с упрощенной трансформацией, чуть лучший результат"
      ]
    },
    {
      "cell_type": "code",
      "execution_count": 28,
      "metadata": {
        "id": "tCl30rGudNZB"
      },
      "outputs": [],
      "source": [
        "import torch\n",
        "from torch import nn\n",
        "import matplotlib.pyplot as plt\n",
        "import numpy as np\n",
        "import torchvision\n",
        "from torchvision import transforms\n",
        "from torch.utils.data import DataLoader, Dataset\n",
        "from tqdm import tqdm\n",
        "import kagglehub\n",
        "import os\n",
        "import random\n",
        "from IPython.display import Image as IM\n",
        "import PIL\n",
        "import pandas as pd"
      ]
    },
    {
      "cell_type": "code",
      "execution_count": 29,
      "metadata": {
        "colab": {
          "base_uri": "https://localhost:8080/"
        },
        "id": "b_0Xn6ECeApd",
        "outputId": "a28df4ff-67b8-4f6d-8035-fcf0207cf0ed"
      },
      "outputs": [
        {
          "name": "stdout",
          "output_type": "stream",
          "text": [
            "Using Colab cache for faster access to the 'mushrooms-classification-common-genuss-images' dataset.\n",
            "Path to dataset files: /kaggle/input/mushrooms-classification-common-genuss-images\n"
          ]
        }
      ],
      "source": [
        "path = kagglehub.dataset_download(\"maysee/mushrooms-classification-common-genuss-images\")\n",
        "\n",
        "print(\"Path to dataset files:\", path)"
      ]
    },
    {
      "cell_type": "code",
      "execution_count": 30,
      "metadata": {
        "colab": {
          "base_uri": "https://localhost:8080/",
          "height": 36
        },
        "id": "RBBnWAnP34Oa",
        "outputId": "74ae9b35-a1f8-4c6b-f0b5-02c485ae3fff"
      },
      "outputs": [
        {
          "data": {
            "application/vnd.google.colaboratory.intrinsic+json": {
              "type": "string"
            },
            "text/plain": [
              "'cuda'"
            ]
          },
          "execution_count": 30,
          "metadata": {},
          "output_type": "execute_result"
        }
      ],
      "source": [
        "if torch.cuda.is_available():\n",
        "    device = \"cuda\"\n",
        "elif torch.backends.mps.is_available():\n",
        "    device = \"mps\"\n",
        "else:\n",
        "    device = \"cpu\"\n",
        "device"
      ]
    },
    {
      "cell_type": "code",
      "execution_count": 31,
      "metadata": {
        "id": "x5i5HsuVeUNW"
      },
      "outputs": [],
      "source": [
        "data_dir = os.path.join(path, 'Mushrooms')"
      ]
    },
    {
      "cell_type": "code",
      "execution_count": 32,
      "metadata": {
        "id": "yS_0SgfOp-8l"
      },
      "outputs": [],
      "source": [
        "def is_not_corrupted_image(path):\n",
        "  try:\n",
        "    with PIL.Image.open(path) as img:\n",
        "      img.verify()\n",
        "    with PIL.Image.open(path) as img:\n",
        "      img.convert('RGB')\n",
        "  except:\n",
        "    return False\n",
        "  return True"
      ]
    },
    {
      "cell_type": "code",
      "execution_count": 43,
      "metadata": {
        "colab": {
          "base_uri": "https://localhost:8080/"
        },
        "id": "kmbJ2nXq-ath",
        "outputId": "390e06d8-fc33-4349-da26-1d6d3f2342cb"
      },
      "outputs": [
        {
          "name": "stdout",
          "output_type": "stream",
          "text": [
            "Total classes: 9\n",
            "Train samples: 5370\n",
            "Test samples: 1343\n",
            "Train class distribution: [ 282  600  858  669  291  253 1250  918  249]\n",
            "Test class distribution: [ 71 150 215 167  73  63 313 229  62]\n"
          ]
        }
      ],
      "source": [
        "from sklearn.model_selection import train_test_split\n",
        "from torch.utils.data import DataLoader, WeightedRandomSampler, Subset\n",
        "class ImageDataManager:\n",
        "    def __init__(self, data_path, batch_size=32, img_size=224):\n",
        "        self.data_path = data_path\n",
        "        self.batch_size = batch_size\n",
        "        self.img_size = img_size\n",
        "\n",
        "        self.setup_transforms()\n",
        "        self.load_and_split_data()\n",
        "        self.create_sampler()\n",
        "        self.create_dataloaders()\n",
        "\n",
        "    def setup_transforms(self):\n",
        "        self.train_transforms = transforms.Compose([\n",
        "            transforms.CenterCrop(550),\n",
        "            transforms.Resize((224,224)),\n",
        "            transforms.ToTensor(),\n",
        "            transforms.Normalize([0.485, 0.456, 0.406], [0.485, 0.456, 0.406])\n",
        "        ])\n",
        "\n",
        "        self.test_transforms = transforms.Compose([\n",
        "            transforms.CenterCrop(550),\n",
        "            transforms.Resize((224,224)),\n",
        "            transforms.ToTensor(),\n",
        "            transforms.Normalize([0.485, 0.456, 0.406], [0.485, 0.456, 0.406])\n",
        "        ])\n",
        "    def load_and_split_data(self):\n",
        "        self.full_dataset = torchvision.datasets.ImageFolder(\n",
        "            root=self.data_path,\n",
        "            transform=self.train_transforms,\n",
        "            is_valid_file=is_not_corrupted_image\n",
        "        )\n",
        "        targets = [sample[1] for sample in self.full_dataset.samples]\n",
        "\n",
        "        train_indices, test_indices = train_test_split(\n",
        "            range(len(self.full_dataset)),\n",
        "            test_size=0.2,\n",
        "            stratify=targets,\n",
        "            random_state=42\n",
        "        )\n",
        "\n",
        "        self.train_indices = train_indices\n",
        "        self.test_indices = test_indices\n",
        "\n",
        "        self.train_dataset = Subset(self.full_dataset, train_indices)\n",
        "        self.test_dataset = Subset(self.full_dataset, test_indices)\n",
        "\n",
        "        original_dataset = self.test_dataset.dataset\n",
        "        self.test_dataset.dataset = torchvision.datasets.ImageFolder(\n",
        "            root=self.data_path,\n",
        "            transform=self.test_transforms,\n",
        "            is_valid_file=is_not_corrupted_image\n",
        "        )\n",
        "\n",
        "        print(f\"Total classes: {len(self.full_dataset.classes)}\")\n",
        "        print(f\"Train samples: {len(self.train_dataset)}\")\n",
        "        print(f\"Test samples: {len(self.test_dataset)}\")\n",
        "\n",
        "        train_targets = [targets[i] for i in train_indices]\n",
        "        test_targets = [targets[i] for i in test_indices]\n",
        "\n",
        "        self.train_distribution = np.bincount(train_targets)\n",
        "        self.test_distribution = np.bincount(test_targets)\n",
        "\n",
        "        print(f\"Train class distribution: {self.train_distribution}\")\n",
        "        print(f\"Test class distribution: {self.test_distribution}\")\n",
        "\n",
        "    def create_sampler(self):\n",
        "        targets = [self.full_dataset.targets[i] for i in self.train_indices]\n",
        "        targets = torch.tensor(targets)\n",
        "\n",
        "        class_counts = np.bincount(targets.numpy())\n",
        "        class_weights = 1. / torch.tensor(class_counts, dtype=torch.float)\n",
        "\n",
        "        sample_weights = class_weights[targets]\n",
        "\n",
        "        self.train_sampler = WeightedRandomSampler(\n",
        "            weights=sample_weights,\n",
        "            num_samples=len(sample_weights),\n",
        "            replacement=True\n",
        "        )\n",
        "\n",
        "    def create_dataloaders(self):\n",
        "        self.train_loader = DataLoader(\n",
        "            self.train_dataset,\n",
        "            batch_size=self.batch_size,\n",
        "            sampler=self.train_sampler,\n",
        "        )\n",
        "\n",
        "        self.test_loader = DataLoader(\n",
        "            self.test_dataset,\n",
        "            batch_size=self.batch_size,\n",
        "            shuffle=False,\n",
        "        )\n",
        "\n",
        "    def get_class_names(self):\n",
        "        return self.full_dataset.classes\n",
        "\n",
        "data_manager = ImageDataManager(\n",
        "    data_path= data_dir,\n",
        "    batch_size=32\n",
        ")\n",
        "\n",
        "train_loader = data_manager.train_loader\n",
        "test_loader = data_manager.test_loader\n",
        "class_names = data_manager.get_class_names()"
      ]
    },
    {
      "cell_type": "code",
      "execution_count": 35,
      "metadata": {
        "colab": {
          "base_uri": "https://localhost:8080/",
          "height": 486
        },
        "id": "bhnbS7yLdxkA",
        "outputId": "8297bc88-9459-42fe-842f-a49ccd7c0a51"
      },
      "outputs": [
        {
          "data": {
            "text/plain": [
              "Text(0.5, 1.0, 'Whole dataset distribution')"
            ]
          },
          "execution_count": 35,
          "metadata": {},
          "output_type": "execute_result"
        },
        {
          "data": {
            "image/png": "[encoded data removed]",
            "text/plain": [
              "<Figure size 1000x500 with 1 Axes>"
            ]
          },
          "metadata": {},
          "output_type": "display_data"
        }
      ],
      "source": [
        "plt.figure(figsize=(10, 5))\n",
        "plt.bar(data_manager.full_dataset.classes, data_manager.train_distribution + data_manager.test_distribution)\n",
        "plt.title('Whole dataset distribution')"
      ]
    },
    {
      "cell_type": "code",
      "execution_count": 36,
      "metadata": {
        "colab": {
          "base_uri": "https://localhost:8080/",
          "height": 338
        },
        "id": "riNodYuCZdYE",
        "outputId": "e95f4142-2aea-47df-9afc-e34fa9b5b6f7"
      },
      "outputs": [
        {
          "data": {
            "text/plain": [
              "Text(0.5, 1.0, 'Test dataset distribution')"
            ]
          },
          "execution_count": 36,
          "metadata": {},
          "output_type": "execute_result"
        },
        {
          "data": {
            "image/png": "[encoded data removed]",
            "text/plain": [
              "<Figure size 2000x500 with 2 Axes>"
            ]
          },
          "metadata": {},
          "output_type": "display_data"
        }
      ],
      "source": [
        "fig, (ax1, ax2) = plt.subplots(1, 2, figsize=(20, 5))\n",
        "ax1.bar(data_manager.full_dataset.classes, data_manager.train_distribution)\n",
        "ax1.set_title('Train dataset distribution')\n",
        "ax2.bar(data_manager.full_dataset.classes, data_manager.test_distribution)\n",
        "ax2.set_title('Test dataset distribution')"
      ]
    },
    {
      "cell_type": "code",
      "execution_count": 37,
      "metadata": {
        "colab": {
          "base_uri": "https://localhost:8080/",
          "height": 36
        },
        "id": "3h7CFj5yywMn",
        "outputId": "06f0d0da-f3ef-4de0-9ae2-0761b7adfec1"
      },
      "outputs": [
        {
          "data": {
            "application/vnd.google.colaboratory.intrinsic+json": {
              "type": "string"
            },
            "text/plain": [
              "'model = torchvision.models.resnet50(pretrained=True)'"
            ]
          },
          "execution_count": 37,
          "metadata": {},
          "output_type": "execute_result"
        }
      ],
      "source": [
        "'''model = torchvision.models.resnet50(pretrained=True)'''"
      ]
    },
    {
      "cell_type": "code",
      "execution_count": 38,
      "metadata": {
        "colab": {
          "base_uri": "https://localhost:8080/",
          "height": 36
        },
        "id": "C7idlJze660U",
        "outputId": "90bf2ce2-a13b-4607-de39-e213098d6509"
      },
      "outputs": [
        {
          "data": {
            "application/vnd.google.colaboratory.intrinsic+json": {
              "type": "string"
            },
            "text/plain": [
              "'in_features = model.fc.in_features'"
            ]
          },
          "execution_count": 38,
          "metadata": {},
          "output_type": "execute_result"
        }
      ],
      "source": [
        "'''in_features = model.fc.in_features'''"
      ]
    },
    {
      "cell_type": "code",
      "execution_count": 39,
      "metadata": {
        "colab": {
          "base_uri": "https://localhost:8080/",
          "height": 90
        },
        "id": "zH4p0ONX2zWB",
        "outputId": "aa81acc7-7d22-4868-b308-3d4bd64d1d05"
      },
      "outputs": [
        {
          "data": {
            "application/vnd.google.colaboratory.intrinsic+json": {
              "type": "string"
            },
            "text/plain": [
              "'for param in model.parameters():\\n    param.requires_grad = False\\n\\nmodel.fc = nn.Sequential(\\n        nn.Dropout(p=0.3, inplace=True),\\n        nn.Linear(in_features, 512),\\n        nn.ReLU(),\\n        nn.BatchNorm1d(512),\\n        nn.Dropout(p=0.2, inplace=True),\\n        nn.Linear(512, 256),\\n        nn.ReLU(),\\n        nn.Dropout(p=0.5),\\n        nn.Linear(256, len(class_names))\\n    )\\n\\nmodel = model.to(device)'"
            ]
          },
          "execution_count": 39,
          "metadata": {},
          "output_type": "execute_result"
        }
      ],
      "source": [
        "'''for param in model.parameters():\n",
        "    param.requires_grad = False\n",
        "\n",
        "model.fc = nn.Sequential(\n",
        "        nn.Dropout(p=0.3, inplace=True),\n",
        "        nn.Linear(in_features, 512),\n",
        "        nn.ReLU(),\n",
        "        nn.BatchNorm1d(512),\n",
        "        nn.Dropout(p=0.2, inplace=True),\n",
        "        nn.Linear(512, 256),\n",
        "        nn.ReLU(),\n",
        "        nn.Dropout(p=0.5),\n",
        "        nn.Linear(256, len(class_names))\n",
        "    )\n",
        "\n",
        "model = model.to(device)'''"
      ]
    },
    {
      "cell_type": "code",
      "execution_count": 50,
      "metadata": {
        "colab": {
          "base_uri": "https://localhost:8080/"
        },
        "id": "HC-Nm3ZyBX7s",
        "outputId": "e5365ca0-ab08-4462-becd-310f234adbba"
      },
      "outputs": [
        {
          "name": "stderr",
          "output_type": "stream",
          "text": [
            "/usr/local/lib/python3.12/dist-packages/torchvision/models/_utils.py:208: UserWarning: The parameter 'pretrained' is deprecated since 0.13 and may be removed in the future, please use 'weights' instead.\n",
            "  warnings.warn(\n",
            "/usr/local/lib/python3.12/dist-packages/torchvision/models/_utils.py:223: UserWarning: Arguments other than a weight enum or `None` for 'weights' are deprecated since 0.13 and may be removed in the future. The current behavior is equivalent to passing `weights=ResNet50_Weights.IMAGENET1K_V1`. You can also use `weights=ResNet50_Weights.DEFAULT` to get the most up-to-date weights.\n",
            "  warnings.warn(msg)\n"
          ]
        }
      ],
      "source": [
        "model = torchvision.models.resnet50(pretrained=True)\n",
        "\n",
        "for param in model.parameters():\n",
        "    param.requires_grad = False\n",
        "\n",
        "model.fc = nn.Sequential(\n",
        "        nn.Dropout(p=0.3, inplace=True),\n",
        "        nn.Linear(model.fc.in_features, 512),\n",
        "        nn.ReLU(),\n",
        "        nn.BatchNorm1d(512),\n",
        "        nn.Dropout(p=0.2, inplace=True),\n",
        "        nn.Linear(512, 256),\n",
        "        nn.ReLU(),\n",
        "        nn.Dropout(p=0.5),\n",
        "        nn.Linear(256, 9)\n",
        "    )"
      ]
    },
    {
      "cell_type": "code",
      "execution_count": 41,
      "metadata": {
        "id": "cLLj3UB_-c1e"
      },
      "outputs": [],
      "source": [
        "#функция тренировки\n",
        "def train(model, train_loader, val_loader, criterion, optimizer, scheduler, num_epochs, device='cuda'):\n",
        "    model = model.to(device)\n",
        "\n",
        "    history = {\n",
        "        'train_loss': [],\n",
        "        'val_loss': [],\n",
        "        'train_accuracy': [],\n",
        "        'val_accuracy': []\n",
        "    }\n",
        "\n",
        "    for epoch in range(num_epochs):\n",
        "        print(f'Epoch {epoch+1}/{num_epochs}')\n",
        "\n",
        "        model.train()\n",
        "        train_loss = 0.0\n",
        "        train_correct = 0\n",
        "        train_total = 0\n",
        "\n",
        "        train_pbar = tqdm(train_loader, desc='Training')\n",
        "        for data, target in train_pbar:\n",
        "            data, target = data.to(device), target.to(device)\n",
        "\n",
        "            optimizer.zero_grad()\n",
        "            output = model(data)\n",
        "            loss = criterion(output, target)\n",
        "            loss.backward()\n",
        "            optimizer.step()\n",
        "\n",
        "            train_loss += loss.item()\n",
        "            _, predicted = torch.max(output.data, 1)\n",
        "            train_total += target.size(0)\n",
        "            train_correct += (predicted == target).sum().item()\n",
        "\n",
        "            current_acc = 100. * train_correct / train_total\n",
        "            train_pbar.set_postfix({\n",
        "                'Loss': f'{loss.item():.4f}',\n",
        "                'Acc': f'{current_acc:.2f}%'\n",
        "            })\n",
        "        scheduler.step()\n",
        "        model.eval()\n",
        "        val_loss = 0.0\n",
        "        val_correct = 0\n",
        "        val_total = 0\n",
        "\n",
        "        if val_loader != None:\n",
        "          val_pbar = tqdm(val_loader, desc='Validation')\n",
        "          with torch.no_grad():\n",
        "              for data, target in val_pbar:\n",
        "                  data, target = data.to(device), target.to(device)\n",
        "                  output = model(data)\n",
        "                  loss = criterion(output, target)\n",
        "\n",
        "                  val_loss += loss.item()\n",
        "                  _, predicted = torch.max(output.data, 1)\n",
        "                  val_total += target.size(0)\n",
        "                  val_correct += (predicted == target).sum().item()\n",
        "\n",
        "                  current_acc = 100. * val_correct / val_total\n",
        "                  val_pbar.set_postfix({\n",
        "                      'Loss': f'{loss.item():.4f}',\n",
        "                      'Acc': f'{current_acc:.2f}%'\n",
        "                  })\n",
        "\n",
        "          avg_train_loss = train_loss / len(train_loader)\n",
        "          train_accuracy = 100. * train_correct / train_total\n",
        "          if val_loader != None:\n",
        "            avg_val_loss = val_loss / len(val_loader)\n",
        "            val_accuracy = 100. * val_correct / val_total\n",
        "\n",
        "          history['train_loss'].append(avg_train_loss)\n",
        "          history['train_accuracy'].append(train_accuracy)\n",
        "\n",
        "          if val_loader != None:\n",
        "            history['val_loss'].append(avg_val_loss)\n",
        "            history['val_accuracy'].append(val_accuracy)\n",
        "\n",
        "          print(f'Train Loss: {avg_train_loss:.4f}, Acc: {train_accuracy:.2f}%')\n",
        "          if val_loader != None:\n",
        "            print(f'Val Loss: {avg_val_loss:.4f}, Acc: {val_accuracy:.2f}%')\n",
        "          print()\n",
        "\n",
        "    return history"
      ]
    },
    {
      "cell_type": "code",
      "execution_count": 51,
      "metadata": {
        "colab": {
          "base_uri": "https://localhost:8080/"
        },
        "id": "O1mgt-56-yEN",
        "outputId": "ce90be4c-477a-4af6-a8d6-b066228b27a5"
      },
      "outputs": [
        {
          "name": "stdout",
          "output_type": "stream",
          "text": [
            "Epoch 1/5\n"
          ]
        },
        {
          "name": "stderr",
          "output_type": "stream",
          "text": [
            "Training: 100%|██████████| 168/168 [01:01<00:00,  2.73it/s, Loss=0.7221, Acc=59.09%]\n",
            "Validation: 100%|██████████| 42/42 [00:14<00:00,  2.81it/s, Loss=1.0625, Acc=65.15%]\n"
          ]
        },
        {
          "name": "stdout",
          "output_type": "stream",
          "text": [
            "Train Loss: 1.1824, Acc: 59.09%\n",
            "Val Loss: 0.9585, Acc: 65.15%\n",
            "\n",
            "Epoch 2/5\n"
          ]
        },
        {
          "name": "stderr",
          "output_type": "stream",
          "text": [
            "Training: 100%|██████████| 168/168 [01:01<00:00,  2.75it/s, Loss=0.8480, Acc=68.36%]\n",
            "Validation: 100%|██████████| 42/42 [00:15<00:00,  2.76it/s, Loss=0.9138, Acc=70.89%]\n"
          ]
        },
        {
          "name": "stdout",
          "output_type": "stream",
          "text": [
            "Train Loss: 0.9160, Acc: 68.36%\n",
            "Val Loss: 0.8543, Acc: 70.89%\n",
            "\n",
            "Epoch 3/5\n"
          ]
        },
        {
          "name": "stderr",
          "output_type": "stream",
          "text": [
            "Training: 100%|██████████| 168/168 [01:01<00:00,  2.72it/s, Loss=0.7222, Acc=71.66%]\n",
            "Validation: 100%|██████████| 42/42 [00:15<00:00,  2.80it/s, Loss=0.8187, Acc=73.57%]\n"
          ]
        },
        {
          "name": "stdout",
          "output_type": "stream",
          "text": [
            "Train Loss: 0.8221, Acc: 71.66%\n",
            "Val Loss: 0.7914, Acc: 73.57%\n",
            "\n",
            "Epoch 4/5\n"
          ]
        },
        {
          "name": "stderr",
          "output_type": "stream",
          "text": [
            "Training: 100%|██████████| 168/168 [01:01<00:00,  2.71it/s, Loss=0.8471, Acc=73.56%]\n",
            "Validation: 100%|██████████| 42/42 [00:14<00:00,  2.81it/s, Loss=0.8759, Acc=72.38%]\n"
          ]
        },
        {
          "name": "stdout",
          "output_type": "stream",
          "text": [
            "Train Loss: 0.7951, Acc: 73.56%\n",
            "Val Loss: 0.7687, Acc: 72.38%\n",
            "\n",
            "Epoch 5/5\n"
          ]
        },
        {
          "name": "stderr",
          "output_type": "stream",
          "text": [
            "Training: 100%|██████████| 168/168 [01:01<00:00,  2.75it/s, Loss=0.4635, Acc=72.35%]\n",
            "Validation: 100%|██████████| 42/42 [00:15<00:00,  2.73it/s, Loss=0.7954, Acc=74.39%]"
          ]
        },
        {
          "name": "stdout",
          "output_type": "stream",
          "text": [
            "Train Loss: 0.7926, Acc: 72.35%\n",
            "Val Loss: 0.7316, Acc: 74.39%\n",
            "\n"
          ]
        },
        {
          "name": "stderr",
          "output_type": "stream",
          "text": [
            "\n"
          ]
        }
      ],
      "source": [
        "criterion = nn.CrossEntropyLoss()\n",
        "optimizer = torch.optim.Adam(model.parameters(), lr=0.001)\n",
        "scheduler = torch.optim.lr_scheduler.StepLR(optimizer, step_size=5, gamma=0.3)\n",
        "history = train(model, train_loader, test_loader, criterion, optimizer, scheduler, 5, device)"
      ]
    },
    {
      "cell_type": "code",
      "execution_count": 52,
      "metadata": {
        "colab": {
          "base_uri": "https://localhost:8080/",
          "height": 449
        },
        "id": "PCObfBboFZXY",
        "outputId": "d2397f0d-94e8-4262-e56d-196928bc967d"
      },
      "outputs": [
        {
          "data": {
            "image/png": "[encoded data removed]",
            "text/plain": [
              "<Figure size 640x480 with 2 Axes>"
            ]
          },
          "metadata": {},
          "output_type": "display_data"
        }
      ],
      "source": [
        "fig, axes = plt.subplots(1, 2, sharex=True, sharey=True)\n",
        "axes[0].plot(history[\"train_accuracy\"], label=\"train acc\")\n",
        "axes[0].plot(history[\"val_accuracy\"], label=\"val acc\")\n",
        "axes[0].set_xlabel('Эпохи')\n",
        "axes[0].set_ylabel('Точность, %')\n",
        "axes[0].grid(True)\n",
        "axes[0].legend(loc=\"upper left\")\n",
        "axes[1].plot(history[\"train_loss\"], label=\"train loss\")\n",
        "axes[1].plot(history[\"val_loss\"], label=\"val loss\")\n",
        "axes[1].set_xlabel('Эпохи')\n",
        "axes[1].set_ylabel('Потери')\n",
        "axes[1].grid(True)\n",
        "axes[1].legend(loc=\"upper right\")\n",
        "plt.show()"
      ]
    },
    {
      "cell_type": "code",
      "execution_count": 53,
      "metadata": {
        "colab": {
          "base_uri": "https://localhost:8080/"
        },
        "id": "MCLnpXAPINaG",
        "outputId": "ba0308bf-a1ef-4ee8-890a-20b1107d251a"
      },
      "outputs": [
        {
          "name": "stdout",
          "output_type": "stream",
          "text": [
            "Epoch 1/3\n"
          ]
        },
        {
          "name": "stderr",
          "output_type": "stream",
          "text": [
            "Training: 100%|██████████| 168/168 [01:01<00:00,  2.74it/s, Loss=0.5882, Acc=75.72%]\n",
            "Validation: 100%|██████████| 42/42 [00:14<00:00,  2.81it/s, Loss=0.7207, Acc=76.62%]\n"
          ]
        },
        {
          "name": "stdout",
          "output_type": "stream",
          "text": [
            "Train Loss: 0.6976, Acc: 75.72%\n",
            "Val Loss: 0.6798, Acc: 76.62%\n",
            "\n",
            "Epoch 2/3\n"
          ]
        },
        {
          "name": "stderr",
          "output_type": "stream",
          "text": [
            "Training: 100%|██████████| 168/168 [01:00<00:00,  2.76it/s, Loss=0.6428, Acc=75.70%]\n",
            "Validation: 100%|██████████| 42/42 [00:14<00:00,  2.84it/s, Loss=0.6731, Acc=77.07%]\n"
          ]
        },
        {
          "name": "stdout",
          "output_type": "stream",
          "text": [
            "Train Loss: 0.7024, Acc: 75.70%\n",
            "Val Loss: 0.6793, Acc: 77.07%\n",
            "\n",
            "Epoch 3/3\n"
          ]
        },
        {
          "name": "stderr",
          "output_type": "stream",
          "text": [
            "Training: 100%|██████████| 168/168 [01:00<00:00,  2.77it/s, Loss=0.6439, Acc=77.50%]\n",
            "Validation: 100%|██████████| 42/42 [00:15<00:00,  2.80it/s, Loss=0.7257, Acc=76.62%]"
          ]
        },
        {
          "name": "stdout",
          "output_type": "stream",
          "text": [
            "Train Loss: 0.6628, Acc: 77.50%\n",
            "Val Loss: 0.6933, Acc: 76.62%\n",
            "\n"
          ]
        },
        {
          "name": "stderr",
          "output_type": "stream",
          "text": [
            "\n"
          ]
        },
        {
          "data": {
            "text/plain": [
              "{'train_loss': [0.6975991443863937, 0.7024247474258855, 0.6627603192769346],\n",
              " 'val_loss': [0.6797632468598229, 0.6792970895767212, 0.6933454189981733],\n",
              " 'train_accuracy': [75.71694599627561, 75.69832402234637, 77.5046554934823],\n",
              " 'val_accuracy': [76.61950856291884, 77.066269545793, 76.61950856291884]}"
            ]
          },
          "execution_count": 53,
          "metadata": {},
          "output_type": "execute_result"
        }
      ],
      "source": [
        "train(model, train_loader, test_loader, criterion, optimizer, scheduler, 3, device)"
      ]
    },
    {
      "cell_type": "code",
      "execution_count": 54,
      "metadata": {
        "id": "QMkK4-fffm_3"
      },
      "outputs": [],
      "source": [
        "def predict(model, data_loader, device='cuda'):\n",
        "    model.eval()\n",
        "    model.to(device)\n",
        "\n",
        "    all_predictions = []\n",
        "\n",
        "    with torch.no_grad():\n",
        "        for batch_idx, (images, targets) in enumerate(data_loader):\n",
        "            images = images.to(device)\n",
        "            targets = targets.to(device)\n",
        "\n",
        "            outputs = model(images)\n",
        "\n",
        "\n",
        "            probabilities = torch.softmax(outputs, dim=1)\n",
        "            predictions = torch.argmax(probabilities, dim=1)\n",
        "\n",
        "            all_predictions.extend(predictions.cpu().numpy())\n",
        "    return np.array(all_predictions)"
      ]
    },
    {
      "cell_type": "code",
      "execution_count": 55,
      "metadata": {
        "id": "3G0LSiUZfqxe"
      },
      "outputs": [],
      "source": [
        "predictions = predict(model, test_loader, device)"
      ]
    },
    {
      "cell_type": "code",
      "execution_count": 56,
      "metadata": {
        "id": "896R96thoHH0"
      },
      "outputs": [],
      "source": [
        "all_targets = data_manager.test_dataset.dataset.targets\n",
        "targets = [all_targets[i] for i in data_manager.test_dataset.indices]"
      ]
    },
    {
      "cell_type": "code",
      "execution_count": 57,
      "metadata": {
        "colab": {
          "base_uri": "https://localhost:8080/"
        },
        "id": "y-_7xk1Xgrbr",
        "outputId": "5db1575b-2617-4757-e0bf-ea894d79f47e"
      },
      "outputs": [
        {
          "name": "stdout",
          "output_type": "stream",
          "text": [
            "Accuracy: 76.62%\n"
          ]
        }
      ],
      "source": [
        "accuracy = 0.\n",
        "test_correct = 0.\n",
        "test_correct += (predictions == targets).sum().item()\n",
        "print(f\"Accuracy: {100. * test_correct / len(predictions):.2f}%\")"
      ]
    },
    {
      "cell_type": "code",
      "execution_count": 59,
      "metadata": {
        "id": "QMbWsgREJcbx"
      },
      "outputs": [],
      "source": [
        "dataloader = DataLoader(data_manager.full_dataset, batch_size = 32)"
      ]
    },
    {
      "cell_type": "code",
      "execution_count": 61,
      "metadata": {
        "id": "KdSiXiTNJw4a"
      },
      "outputs": [],
      "source": [
        "predictions = predict(model, dataloader, device)"
      ]
    },
    {
      "cell_type": "code",
      "execution_count": 64,
      "metadata": {
        "id": "nlFj7_Q4J44I"
      },
      "outputs": [],
      "source": [
        "targets = np.array(data_manager.full_dataset.targets)"
      ]
    },
    {
      "cell_type": "code",
      "execution_count": 66,
      "metadata": {
        "colab": {
          "base_uri": "https://localhost:8080/",
          "height": 449
        },
        "id": "en6hFlpZKbed",
        "outputId": "7fb36ea4-a82c-4f8d-8b62-d6d866ec043f"
      },
      "outputs": [
        {
          "data": {
            "image/png": "[encoded data removed]",
            "text/plain": [
              "<Figure size 640x480 with 2 Axes>"
            ]
          },
          "metadata": {},
          "output_type": "display_data"
        }
      ],
      "source": [
        "from sklearn.metrics import confusion_matrix, ConfusionMatrixDisplay\n",
        "cm = confusion_matrix(targets, predictions)\n",
        "disp = ConfusionMatrixDisplay(confusion_matrix=cm,\n",
        "                              display_labels=class_names)\n",
        "disp.plot()\n",
        "plt.show()"
      ]
    },
    {
      "cell_type": "code",
      "execution_count": null,
      "metadata": {
        "id": "KePw5k9ewRmq"
      },
      "outputs": [],
      "source": [
        "torch.save(model.state_dict(), \"mushroom_weights_better results.pth\")\n",
        "#model.load_state_dict(torch.load('mushroom_weights.pth'))\n",
        "#model.eval()"
      ]
    }
  ],
  "metadata": {
    "accelerator": "GPU",
    "colab": {
      "gpuType": "T4",
      "provenance": []
    },
    "kernelspec": {
      "display_name": "Python 3",
      "name": "python3"
    },
    "language_info": {
      "name": "python"
    }
  },
  "nbformat": 4,
  "nbformat_minor": 0
}
